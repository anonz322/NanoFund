{
 "cells": [
  {
   "cell_type": "code",
   "execution_count": 26,
   "metadata": {
    "ExecuteTime": {
     "end_time": "2020-02-17T11:20:42.831161Z",
     "start_time": "2020-02-17T11:20:42.817931Z"
    }
   },
   "outputs": [],
   "source": [
    "import pandas as pd\n",
    "import yfinance as yf\n",
    "import numpy as np\n",
    "from math import sqrt\n",
    "import datetime as dt\n",
    "import seaborn as sns\n",
    "import matplotlib.pyplot as plt\n",
    "from scipy.optimize import minimize"
   ]
  },
  {
   "cell_type": "markdown",
   "metadata": {
    "heading_collapsed": true
   },
   "source": [
    "# Func :"
   ]
  },
  {
   "cell_type": "code",
   "execution_count": 27,
   "metadata": {
    "ExecuteTime": {
     "end_time": "2020-02-17T11:20:42.849378Z",
     "start_time": "2020-02-17T11:20:42.838284Z"
    },
    "code_folding": [],
    "hidden": true
   },
   "outputs": [],
   "source": [
    "def PF_variance(weights, sigmas, correl):\n",
    "    '''returns n-assets whole portfolio variance'''\n",
    "    return float(np.dot(np.dot(np.dot(np.dot(weights.transpose(), sigmas), correl), sigmas), weights))"
   ]
  },
  {
   "cell_type": "code",
   "execution_count": 28,
   "metadata": {
    "ExecuteTime": {
     "end_time": "2020-02-17T11:20:42.868190Z",
     "start_time": "2020-02-17T11:20:42.859713Z"
    },
    "code_folding": [],
    "hidden": true
   },
   "outputs": [],
   "source": [
    "def PF_return(weights, returns):\n",
    "    '''returns n-assets whole portfolio return'''\n",
    "    return float(np.dot(weights.transpose(),returns))"
   ]
  },
  {
   "cell_type": "code",
   "execution_count": 29,
   "metadata": {
    "ExecuteTime": {
     "end_time": "2020-02-17T14:33:22.187437Z",
     "start_time": "2020-02-17T14:33:22.174532Z"
    },
    "code_folding": [],
    "hidden": true
   },
   "outputs": [],
   "source": [
    "def sim_PF(sig_lst, corr, ret, num_sim, risk_free=0.001): #\n",
    "    '''compute PF weights combinations, of n-assets\n",
    "    Montecarlo approach (since n is unknow)'''\n",
    "    num_assets = len(sig_lst)\n",
    "    result_list=[] #doing a list of dict and using it to build one last pandas df is faster than appending rows to existing DF\n",
    "    #see https://stackoverflow.com/a/17496530\n",
    "    \n",
    "    #transform sigs into symetric matrix\n",
    "    #   sig A   0 \n",
    "    #   0       sig B\n",
    "    sig = np.zeros((num_assets, num_assets), float)\n",
    "    np.fill_diagonal(sig, sig_lst.values)\n",
    "    \n",
    "    for i in range(1,num_sim):\n",
    "        w = pd.Series(np.random.random(num_assets), index=ret.index)\n",
    "        w /= np.sum(w)\n",
    "        i_ret=PF_return(w, ret)\n",
    "        i_var=PF_variance(w, sig, corr)\n",
    "        dict_tmp = {'weights':w, 'glob_ret':i_ret, 'stdev':np.sqrt(i_var), 'sharpe':((i_ret-risk_free)/np.sqrt(i_var))}\n",
    "        result_list.append(dict_tmp)\n",
    "    \n",
    "    results = pd.DataFrame(result_list)\n",
    "    return results  "
   ]
  },
  {
   "cell_type": "code",
   "execution_count": 30,
   "metadata": {
    "ExecuteTime": {
     "end_time": "2020-02-17T11:20:42.905970Z",
     "start_time": "2020-02-17T11:20:42.895946Z"
    },
    "code_folding": [
     0
    ],
    "hidden": true
   },
   "outputs": [],
   "source": [
    "def find_barrier(results):\n",
    "    '''find the points located on the Markowitz efficient barrier'''\n",
    "    results['glob_ret'] = results['glob_ret'].round(3)\n",
    "    ret_range = results['glob_ret'].unique()\n",
    "\n",
    "    barrier_coord = []\n",
    "    for i in ret_range:\n",
    "        stdev_tmp = results[results['glob_ret']==i]['stdev'].min()\n",
    "        elt = {'ret':i, 'stdev':stdev_tmp}\n",
    "        barrier_coord.append(elt)\n",
    "        \n",
    "    df = pd.DataFrame(barrier_coord)\n",
    "    return df"
   ]
  },
  {
   "cell_type": "code",
   "execution_count": 31,
   "metadata": {
    "ExecuteTime": {
     "end_time": "2020-02-17T11:20:42.935828Z",
     "start_time": "2020-02-17T11:20:42.909961Z"
    },
    "code_folding": [
     0
    ],
    "hidden": true
   },
   "outputs": [],
   "source": [
    "def constr_optim_markowitz(returns):\n",
    "    '''min PF_var under constraints : weights > 0 (no shorts), sum(weights)=1, returns > 0'''\n",
    "    # Mean return for each stock (in array)\n",
    "    r = np.array(np.mean(returns, axis=0))\n",
    "\n",
    "    # Covariance matrix between stocks (in array)\n",
    "    S = np.array(returns.cov())\n",
    "\n",
    "    # Vector of 1's equal in length to r\n",
    "    e = np.ones(len(r))\n",
    "\n",
    "    # Set the projected mean return for the portfolio\n",
    "    mu = 1+(0.07/252) # 7% rate annually per day\n",
    "    \n",
    "    def objective(w):\n",
    "        return np.matmul(np.matmul(w,S),w)\n",
    "    \n",
    "    \n",
    "    w = np.random.random(len(r))\n",
    "    \n",
    "    const = ({'type' : 'ineq' , 'fun' : lambda w: np.dot(w,r) - mu}, # returns - mu >= 0\n",
    "         {'type' : 'eq' , 'fun' : lambda w: np.dot(w,e) - 1})    # sum(w) - 1 = 0\n",
    "    \n",
    "    # Create Bounds\n",
    "    # Creates a tuple of tuples to pass to minimize\n",
    "    # to ensure all weights are betwen [0, inf]\n",
    "    non_neg = []\n",
    "    for i in range(len(r)):\n",
    "        non_neg.append((0,None))\n",
    "    non_neg = tuple(non_neg)\n",
    "\n",
    "\n",
    "\n",
    "    # Run optimization with SLSQP solver\n",
    "    solution = minimize(fun=objective, x0=w, method='SLSQP',constraints=const,bounds=non_neg)\n",
    "    w = solution.x.round(6)\n",
    "    print(w)\n",
    "    print(w.sum())\n",
    "    print(list(returns.columns[w > 0.0]))\n"
   ]
  },
  {
   "cell_type": "code",
   "execution_count": 32,
   "metadata": {
    "ExecuteTime": {
     "end_time": "2020-02-17T13:59:14.023344Z",
     "start_time": "2020-02-17T13:59:14.014223Z"
    },
    "code_folding": [],
    "hidden": true
   },
   "outputs": [],
   "source": [
    "def plot_pf_sim(results, barrier, nsim):\n",
    "    ax,fig = plt.subplots(figsize=(15,10))\n",
    "    plt.title(\"PF sim ({}-sim)\".format(nsim))\n",
    "    plt.scatter(x=results['stdev'], y=results['glob_ret'], c=results['sharpe'])\n",
    "    plt.scatter(x=barrier['stdev'], y=barrier['ret'], color='red')\n",
    "    cbar = plt.colorbar()\n",
    "    cbar.ax.set_ylabel('Sharpe')\n",
    "\n",
    "    plt.xlabel(\"stdev\")\n",
    "    plt.ylabel(\"expected return\")\n",
    "    plt.show()"
   ]
  },
  {
   "cell_type": "markdown",
   "metadata": {},
   "source": [
    "# Analysis :"
   ]
  },
  {
   "cell_type": "code",
   "execution_count": 33,
   "metadata": {
    "ExecuteTime": {
     "end_time": "2020-02-17T14:26:28.748147Z",
     "start_time": "2020-02-17T14:26:28.702085Z"
    }
   },
   "outputs": [
    {
     "data": {
      "text/html": [
       "<div>\n",
       "<style scoped>\n",
       "    .dataframe tbody tr th:only-of-type {\n",
       "        vertical-align: middle;\n",
       "    }\n",
       "\n",
       "    .dataframe tbody tr th {\n",
       "        vertical-align: top;\n",
       "    }\n",
       "\n",
       "    .dataframe thead th {\n",
       "        text-align: right;\n",
       "    }\n",
       "</style>\n",
       "<table border=\"1\" class=\"dataframe\">\n",
       "  <thead>\n",
       "    <tr style=\"text-align: right;\">\n",
       "      <th></th>\n",
       "      <th>ticker</th>\n",
       "      <th>date_in</th>\n",
       "      <th>spot_in</th>\n",
       "      <th>cost_eur</th>\n",
       "      <th>nb</th>\n",
       "      <th>currency</th>\n",
       "      <th>current_val</th>\n",
       "      <th>date_out</th>\n",
       "      <th>price_out</th>\n",
       "      <th>cost_out</th>\n",
       "    </tr>\n",
       "  </thead>\n",
       "  <tbody>\n",
       "    <tr>\n",
       "      <td>0</td>\n",
       "      <td>UBER</td>\n",
       "      <td>2019-11-26</td>\n",
       "      <td>29.0998</td>\n",
       "      <td>800.43</td>\n",
       "      <td>29.0</td>\n",
       "      <td>usd</td>\n",
       "      <td>NaN</td>\n",
       "      <td>NaN</td>\n",
       "      <td>NaN</td>\n",
       "      <td>NaN</td>\n",
       "    </tr>\n",
       "    <tr>\n",
       "      <td>1</td>\n",
       "      <td>MITRA.BR</td>\n",
       "      <td>2020-02-13</td>\n",
       "      <td>26.8800</td>\n",
       "      <td>537.60</td>\n",
       "      <td>20.0</td>\n",
       "      <td>eur</td>\n",
       "      <td>NaN</td>\n",
       "      <td>NaN</td>\n",
       "      <td>NaN</td>\n",
       "      <td>NaN</td>\n",
       "    </tr>\n",
       "  </tbody>\n",
       "</table>\n",
       "</div>"
      ],
      "text/plain": [
       "     ticker    date_in  spot_in  cost_eur    nb currency  current_val  \\\n",
       "0      UBER 2019-11-26  29.0998    800.43  29.0      usd          NaN   \n",
       "1  MITRA.BR 2020-02-13  26.8800    537.60  20.0      eur          NaN   \n",
       "\n",
       "   date_out  price_out  cost_out  \n",
       "0       NaN        NaN       NaN  \n",
       "1       NaN        NaN       NaN  "
      ]
     },
     "metadata": {},
     "output_type": "display_data"
    }
   ],
   "source": [
    "portfolio = pd.DataFrame(columns=[\"ticker\", \"date_in\", \"spot_in\", \"cost_eur\", \"nb\", \"currency\", \"current_val\", \"date_out\", \"price_out\", \"cost_out\"])\n",
    "portfolio = portfolio.append({\\\n",
    "                  \"ticker\":\"UBER\",\\\n",
    "                  \"date_in\":dt.datetime(2019,11,26),\\\n",
    "                  \"spot_in\":29.0998,\\\n",
    "                  \"cost_eur\":800.43,\\\n",
    "                  \"nb\":29.0,\\\n",
    "                  \"currency\":\"usd\"}, ignore_index=True)\n",
    "\n",
    "portfolio = portfolio.append({\\\n",
    "                  \"ticker\":\"MITRA.BR\",\\\n",
    "                  \"date_in\":dt.datetime(2020,2,13),\\\n",
    "                  \"spot_in\":26.88,\\\n",
    "                  \"cost_eur\":537.6,\\\n",
    "                  \"nb\":20.0,\\\n",
    "                  \"currency\":\"eur\"}, ignore_index=True)\n",
    "display(portfolio)"
   ]
  },
  {
   "cell_type": "code",
   "execution_count": 34,
   "metadata": {
    "ExecuteTime": {
     "end_time": "2020-02-17T11:20:43.053859Z",
     "start_time": "2020-02-17T11:20:43.044045Z"
    }
   },
   "outputs": [],
   "source": [
    "#TO MODIFY : pick a TBond + prompt version\n",
    "risk_free_rate = 0.0178"
   ]
  },
  {
   "cell_type": "code",
   "execution_count": 35,
   "metadata": {
    "ExecuteTime": {
     "end_time": "2020-02-17T11:20:43.065976Z",
     "start_time": "2020-02-17T11:20:43.057906Z"
    },
    "code_folding": []
   },
   "outputs": [],
   "source": [
    "#TO MODIFY (prompt version) in standalone version\n",
    "end = dt.date.today()\n",
    "start = dt.datetime(2016, 5, 10)"
   ]
  },
  {
   "cell_type": "code",
   "execution_count": 36,
   "metadata": {},
   "outputs": [
    {
     "name": "stdout",
     "output_type": "stream",
     "text": [
      "[*********************100%***********************]  1 of 1 completed\n"
     ]
    },
    {
     "data": {
      "text/plain": [
       "1.0794472694396973"
      ]
     },
     "execution_count": 36,
     "metadata": {},
     "output_type": "execute_result"
    }
   ],
   "source": [
    "yf.download(\"EURUSD=X\", start=dt.date.today())[\"Low\"][-1]\n"
   ]
  },
  {
   "cell_type": "code",
   "execution_count": 37,
   "metadata": {
    "ExecuteTime": {
     "end_time": "2020-02-17T14:10:43.611010Z",
     "start_time": "2020-02-17T14:10:42.984799Z"
    }
   },
   "outputs": [
    {
     "name": "stdout",
     "output_type": "stream",
     "text": [
      "[*********************100%***********************]  2 of 2 completed\n",
      "[*********************100%***********************]  1 of 1 completed\n"
     ]
    },
    {
     "data": {
      "text/html": [
       "<div>\n",
       "<style scoped>\n",
       "    .dataframe tbody tr th:only-of-type {\n",
       "        vertical-align: middle;\n",
       "    }\n",
       "\n",
       "    .dataframe tbody tr th {\n",
       "        vertical-align: top;\n",
       "    }\n",
       "\n",
       "    .dataframe thead th {\n",
       "        text-align: right;\n",
       "    }\n",
       "</style>\n",
       "<table border=\"1\" class=\"dataframe\">\n",
       "  <thead>\n",
       "    <tr style=\"text-align: right;\">\n",
       "      <th></th>\n",
       "      <th>rate</th>\n",
       "    </tr>\n",
       "  </thead>\n",
       "  <tbody>\n",
       "    <tr>\n",
       "      <td>usd</td>\n",
       "      <td>1.079447e+00</td>\n",
       "    </tr>\n",
       "    <tr>\n",
       "      <td>eur</td>\n",
       "      <td>1.000000e+00</td>\n",
       "    </tr>\n",
       "    <tr>\n",
       "      <td>foo</td>\n",
       "      <td>1.000000e-07</td>\n",
       "    </tr>\n",
       "  </tbody>\n",
       "</table>\n",
       "</div>"
      ],
      "text/plain": [
       "             rate\n",
       "usd  1.079447e+00\n",
       "eur  1.000000e+00\n",
       "foo  1.000000e-07"
      ]
     },
     "execution_count": 37,
     "metadata": {},
     "output_type": "execute_result"
    }
   ],
   "source": [
    "prices = yf.download(portfolio['ticker'].tolist(), start=start, end=end)\n",
    "currencies = pd.DataFrame(columns=['rate'])\n",
    "currencies.loc['usd'] = float(yf.download(\"EURUSD=X\", start=dt.date.today())[\"Low\"][-1]) #Low for the lowest estimation\n",
    "currencies.loc['eur'] = 1\n",
    "currencies.loc['foo'] = 0.0000001\n",
    "\n",
    "currencies"
   ]
  },
  {
   "cell_type": "code",
   "execution_count": 38,
   "metadata": {
    "ExecuteTime": {
     "end_time": "2020-02-17T14:26:49.067012Z",
     "start_time": "2020-02-17T14:26:49.028060Z"
    }
   },
   "outputs": [
    {
     "data": {
      "text/html": [
       "<div>\n",
       "<style scoped>\n",
       "    .dataframe tbody tr th:only-of-type {\n",
       "        vertical-align: middle;\n",
       "    }\n",
       "\n",
       "    .dataframe tbody tr th {\n",
       "        vertical-align: top;\n",
       "    }\n",
       "\n",
       "    .dataframe thead tr th {\n",
       "        text-align: left;\n",
       "    }\n",
       "\n",
       "    .dataframe thead tr:last-of-type th {\n",
       "        text-align: right;\n",
       "    }\n",
       "</style>\n",
       "<table border=\"1\" class=\"dataframe\">\n",
       "  <thead>\n",
       "    <tr>\n",
       "      <th></th>\n",
       "      <th colspan=\"2\" halign=\"left\">Adj Close</th>\n",
       "      <th colspan=\"2\" halign=\"left\">Close</th>\n",
       "      <th colspan=\"2\" halign=\"left\">High</th>\n",
       "      <th colspan=\"2\" halign=\"left\">Low</th>\n",
       "      <th colspan=\"2\" halign=\"left\">Open</th>\n",
       "      <th colspan=\"2\" halign=\"left\">Volume</th>\n",
       "    </tr>\n",
       "    <tr>\n",
       "      <th></th>\n",
       "      <th>MITRA.BR</th>\n",
       "      <th>UBER</th>\n",
       "      <th>MITRA.BR</th>\n",
       "      <th>UBER</th>\n",
       "      <th>MITRA.BR</th>\n",
       "      <th>UBER</th>\n",
       "      <th>MITRA.BR</th>\n",
       "      <th>UBER</th>\n",
       "      <th>MITRA.BR</th>\n",
       "      <th>UBER</th>\n",
       "      <th>MITRA.BR</th>\n",
       "      <th>UBER</th>\n",
       "    </tr>\n",
       "    <tr>\n",
       "      <th>Date</th>\n",
       "      <th></th>\n",
       "      <th></th>\n",
       "      <th></th>\n",
       "      <th></th>\n",
       "      <th></th>\n",
       "      <th></th>\n",
       "      <th></th>\n",
       "      <th></th>\n",
       "      <th></th>\n",
       "      <th></th>\n",
       "      <th></th>\n",
       "      <th></th>\n",
       "    </tr>\n",
       "  </thead>\n",
       "  <tbody>\n",
       "    <tr>\n",
       "      <td>2016-05-10</td>\n",
       "      <td>9.001000</td>\n",
       "      <td>NaN</td>\n",
       "      <td>9.001000</td>\n",
       "      <td>NaN</td>\n",
       "      <td>9.500000</td>\n",
       "      <td>NaN</td>\n",
       "      <td>9.000000</td>\n",
       "      <td>NaN</td>\n",
       "      <td>9.50</td>\n",
       "      <td>NaN</td>\n",
       "      <td>4835.0</td>\n",
       "      <td>NaN</td>\n",
       "    </tr>\n",
       "    <tr>\n",
       "      <td>2016-05-11</td>\n",
       "      <td>9.160000</td>\n",
       "      <td>NaN</td>\n",
       "      <td>9.160000</td>\n",
       "      <td>NaN</td>\n",
       "      <td>9.390000</td>\n",
       "      <td>NaN</td>\n",
       "      <td>9.000000</td>\n",
       "      <td>NaN</td>\n",
       "      <td>9.39</td>\n",
       "      <td>NaN</td>\n",
       "      <td>3130.0</td>\n",
       "      <td>NaN</td>\n",
       "    </tr>\n",
       "    <tr>\n",
       "      <td>2016-05-12</td>\n",
       "      <td>9.390000</td>\n",
       "      <td>NaN</td>\n",
       "      <td>9.390000</td>\n",
       "      <td>NaN</td>\n",
       "      <td>9.390000</td>\n",
       "      <td>NaN</td>\n",
       "      <td>9.210000</td>\n",
       "      <td>NaN</td>\n",
       "      <td>9.38</td>\n",
       "      <td>NaN</td>\n",
       "      <td>2284.0</td>\n",
       "      <td>NaN</td>\n",
       "    </tr>\n",
       "    <tr>\n",
       "      <td>2016-05-13</td>\n",
       "      <td>9.460000</td>\n",
       "      <td>NaN</td>\n",
       "      <td>9.460000</td>\n",
       "      <td>NaN</td>\n",
       "      <td>9.467000</td>\n",
       "      <td>NaN</td>\n",
       "      <td>9.390000</td>\n",
       "      <td>NaN</td>\n",
       "      <td>9.39</td>\n",
       "      <td>NaN</td>\n",
       "      <td>875.0</td>\n",
       "      <td>NaN</td>\n",
       "    </tr>\n",
       "    <tr>\n",
       "      <td>2016-05-16</td>\n",
       "      <td>9.400000</td>\n",
       "      <td>NaN</td>\n",
       "      <td>9.400000</td>\n",
       "      <td>NaN</td>\n",
       "      <td>9.460000</td>\n",
       "      <td>NaN</td>\n",
       "      <td>9.400000</td>\n",
       "      <td>NaN</td>\n",
       "      <td>9.46</td>\n",
       "      <td>NaN</td>\n",
       "      <td>160.0</td>\n",
       "      <td>NaN</td>\n",
       "    </tr>\n",
       "    <tr>\n",
       "      <td>...</td>\n",
       "      <td>...</td>\n",
       "      <td>...</td>\n",
       "      <td>...</td>\n",
       "      <td>...</td>\n",
       "      <td>...</td>\n",
       "      <td>...</td>\n",
       "      <td>...</td>\n",
       "      <td>...</td>\n",
       "      <td>...</td>\n",
       "      <td>...</td>\n",
       "      <td>...</td>\n",
       "      <td>...</td>\n",
       "    </tr>\n",
       "    <tr>\n",
       "      <td>2020-02-12</td>\n",
       "      <td>27.120001</td>\n",
       "      <td>41.25</td>\n",
       "      <td>27.120001</td>\n",
       "      <td>41.25</td>\n",
       "      <td>27.139999</td>\n",
       "      <td>41.860001</td>\n",
       "      <td>26.820000</td>\n",
       "      <td>41.064999</td>\n",
       "      <td>27.00</td>\n",
       "      <td>41.500000</td>\n",
       "      <td>47819.0</td>\n",
       "      <td>26444900.0</td>\n",
       "    </tr>\n",
       "    <tr>\n",
       "      <td>2020-02-13</td>\n",
       "      <td>26.920000</td>\n",
       "      <td>40.09</td>\n",
       "      <td>26.920000</td>\n",
       "      <td>40.09</td>\n",
       "      <td>27.320000</td>\n",
       "      <td>41.549999</td>\n",
       "      <td>26.660000</td>\n",
       "      <td>40.000000</td>\n",
       "      <td>27.00</td>\n",
       "      <td>40.930000</td>\n",
       "      <td>31510.0</td>\n",
       "      <td>23850900.0</td>\n",
       "    </tr>\n",
       "    <tr>\n",
       "      <td>2020-02-14</td>\n",
       "      <td>26.680000</td>\n",
       "      <td>39.66</td>\n",
       "      <td>26.680000</td>\n",
       "      <td>39.66</td>\n",
       "      <td>27.080000</td>\n",
       "      <td>40.310001</td>\n",
       "      <td>26.459999</td>\n",
       "      <td>38.700001</td>\n",
       "      <td>27.08</td>\n",
       "      <td>40.020000</td>\n",
       "      <td>27369.0</td>\n",
       "      <td>32014200.0</td>\n",
       "    </tr>\n",
       "    <tr>\n",
       "      <td>2020-02-17</td>\n",
       "      <td>26.700001</td>\n",
       "      <td>NaN</td>\n",
       "      <td>26.700001</td>\n",
       "      <td>NaN</td>\n",
       "      <td>26.959999</td>\n",
       "      <td>NaN</td>\n",
       "      <td>26.420000</td>\n",
       "      <td>NaN</td>\n",
       "      <td>26.42</td>\n",
       "      <td>NaN</td>\n",
       "      <td>26293.0</td>\n",
       "      <td>NaN</td>\n",
       "    </tr>\n",
       "    <tr>\n",
       "      <td>2020-02-18</td>\n",
       "      <td>NaN</td>\n",
       "      <td>40.18</td>\n",
       "      <td>NaN</td>\n",
       "      <td>40.18</td>\n",
       "      <td>NaN</td>\n",
       "      <td>40.270000</td>\n",
       "      <td>NaN</td>\n",
       "      <td>39.450001</td>\n",
       "      <td>NaN</td>\n",
       "      <td>39.490002</td>\n",
       "      <td>NaN</td>\n",
       "      <td>22149300.0</td>\n",
       "    </tr>\n",
       "  </tbody>\n",
       "</table>\n",
       "<p>968 rows × 12 columns</p>\n",
       "</div>"
      ],
      "text/plain": [
       "            Adj Close             Close              High             \\\n",
       "             MITRA.BR   UBER   MITRA.BR   UBER   MITRA.BR       UBER   \n",
       "Date                                                                   \n",
       "2016-05-10   9.001000    NaN   9.001000    NaN   9.500000        NaN   \n",
       "2016-05-11   9.160000    NaN   9.160000    NaN   9.390000        NaN   \n",
       "2016-05-12   9.390000    NaN   9.390000    NaN   9.390000        NaN   \n",
       "2016-05-13   9.460000    NaN   9.460000    NaN   9.467000        NaN   \n",
       "2016-05-16   9.400000    NaN   9.400000    NaN   9.460000        NaN   \n",
       "...               ...    ...        ...    ...        ...        ...   \n",
       "2020-02-12  27.120001  41.25  27.120001  41.25  27.139999  41.860001   \n",
       "2020-02-13  26.920000  40.09  26.920000  40.09  27.320000  41.549999   \n",
       "2020-02-14  26.680000  39.66  26.680000  39.66  27.080000  40.310001   \n",
       "2020-02-17  26.700001    NaN  26.700001    NaN  26.959999        NaN   \n",
       "2020-02-18        NaN  40.18        NaN  40.18        NaN  40.270000   \n",
       "\n",
       "                  Low                Open              Volume              \n",
       "             MITRA.BR       UBER MITRA.BR       UBER MITRA.BR        UBER  \n",
       "Date                                                                       \n",
       "2016-05-10   9.000000        NaN     9.50        NaN   4835.0         NaN  \n",
       "2016-05-11   9.000000        NaN     9.39        NaN   3130.0         NaN  \n",
       "2016-05-12   9.210000        NaN     9.38        NaN   2284.0         NaN  \n",
       "2016-05-13   9.390000        NaN     9.39        NaN    875.0         NaN  \n",
       "2016-05-16   9.400000        NaN     9.46        NaN    160.0         NaN  \n",
       "...               ...        ...      ...        ...      ...         ...  \n",
       "2020-02-12  26.820000  41.064999    27.00  41.500000  47819.0  26444900.0  \n",
       "2020-02-13  26.660000  40.000000    27.00  40.930000  31510.0  23850900.0  \n",
       "2020-02-14  26.459999  38.700001    27.08  40.020000  27369.0  32014200.0  \n",
       "2020-02-17  26.420000        NaN    26.42        NaN  26293.0         NaN  \n",
       "2020-02-18        NaN  39.450001      NaN  39.490002      NaN  22149300.0  \n",
       "\n",
       "[968 rows x 12 columns]"
      ]
     },
     "metadata": {},
     "output_type": "display_data"
    }
   ],
   "source": [
    "display(prices)"
   ]
  },
  {
   "cell_type": "markdown",
   "metadata": {},
   "source": [
    "## Report : mean ret, Markowitz"
   ]
  },
  {
   "cell_type": "code",
   "execution_count": 39,
   "metadata": {
    "ExecuteTime": {
     "end_time": "2020-02-17T14:36:03.264750Z",
     "start_time": "2020-02-17T14:36:02.473113Z"
    },
    "code_folding": [
     14
    ],
    "scrolled": true
   },
   "outputs": [
    {
     "name": "stderr",
     "output_type": "stream",
     "text": [
      "C:\\Users\\sv5011\\AppData\\Local\\Continuum\\anaconda3\\lib\\site-packages\\pandas\\plotting\\_matplotlib\\converter.py:103: FutureWarning: Using an implicitly registered datetime converter for a matplotlib plotting method. The converter was registered by pandas on import. Future versions of pandas will require you to explicitly register matplotlib converters.\n",
      "\n",
      "To register the converters:\n",
      "\t>>> from pandas.plotting import register_matplotlib_converters\n",
      "\t>>> register_matplotlib_converters()\n",
      "  warnings.warn(msg, FutureWarning)\n"
     ]
    },
    {
     "data": {
      "image/png": "[encoded data removed]",
      "text/plain": [
       "<Figure size 1080x288 with 1 Axes>"
      ]
     },
     "metadata": {
      "needs_background": "light"
     },
     "output_type": "display_data"
    },
    {
     "name": "stdout",
     "output_type": "stream",
     "text": [
      "MITRA.BR\n"
     ]
    },
    {
     "data": {
      "image/png": "[encoded data removed]",
      "text/plain": [
       "<Figure size 432x288 with 1 Axes>"
      ]
     },
     "metadata": {
      "needs_background": "light"
     },
     "output_type": "display_data"
    },
    {
     "name": "stdout",
     "output_type": "stream",
     "text": [
      "mean monthly returns : \n",
      "0.02854510285770305 \n",
      "monthly returns stdev : \n",
      "0.14069648681115587\n",
      "kurtosis (monthly): 2.3183903458807316\n",
      "skewnes (monthly): 1.2337026664711115\n",
      "global return (daily) : 0.11792526210191523\n",
      "global stdev (daily) : 0.02525378809830204\n",
      "\n",
      "\n",
      "UBER\n"
     ]
    },
    {
     "data": {
      "image/png": "[encoded data removed]",
      "text/plain": [
       "<Figure size 432x288 with 1 Axes>"
      ]
     },
     "metadata": {
      "needs_background": "light"
     },
     "output_type": "display_data"
    },
    {
     "name": "stdout",
     "output_type": "stream",
     "text": [
      "mean monthly returns : \n",
      "0.007821170679643805 \n",
      "monthly returns stdev : \n",
      "0.13700565146394428\n",
      "kurtosis (monthly): -0.23136139547419887\n",
      "skewnes (monthly): -0.08210051389435054\n",
      "global return (daily) : 0.03348826718718412\n",
      "global stdev (daily) : 0.02898361249277068\n",
      "\n",
      "\n",
      "PF correl coef : 0.1730918641462703\n"
     ]
    }
   ],
   "source": [
    "returns_monthly = prices[\"Adj Close\"].resample('BM').apply(lambda x: x[-1]).pct_change()\n",
    "means_returns = returns_monthly.mean()\n",
    "sigmas_monthly = returns_monthly.std()\n",
    "\n",
    "fig, ax = plt.subplots(figsize=(15,4))\n",
    "plt.plot(returns_monthly)\n",
    "plt.legend(returns_monthly.columns.values,loc='upper left')\n",
    "plt.title(\"monthly returns\")\n",
    "plt.show()\n",
    "\n",
    "\n",
    "returns = prices[\"Adj Close\"].dropna().pct_change().cumsum(axis=0).iloc[-1] #dropna in order to compare same timeframe\n",
    "sigmas = prices[\"Adj Close\"].dropna().pct_change().std()\n",
    "correl = np.corrcoef(np.array(prices[\"Adj Close\"].dropna().pct_change().dropna().T))\n",
    "\n",
    "with pd.option_context('display.max_rows', None, 'display.max_columns', None):\n",
    "    for i in returns_monthly.columns:\n",
    "        print(i)\n",
    "        sns.distplot(returns_monthly[i].dropna())\n",
    "        plt.axvline(0, color=\"red\")\n",
    "        plt.show()\n",
    "        print(\"mean monthly returns : \\n{} \\nmonthly returns stdev : \\n{}\".format(means_returns[i], sigmas_monthly[i]))\n",
    "        print(\"kurtosis (monthly): {}\".format(returns_monthly[i].kurtosis()))\n",
    "        print(\"skewnes (monthly): {}\".format(returns_monthly[i].skew()))\n",
    "\n",
    "        print(\"global return (daily) : {}\".format(returns[i]))\n",
    "        print(\"global stdev (daily) : {}\\n\\n\".format(sigmas[i]))\n",
    "    print(\"PF correl coef : {}\".format(correl[0,1]))"
   ]
  },
  {
   "cell_type": "code",
   "execution_count": null,
   "metadata": {
    "ExecuteTime": {
     "end_time": "2020-02-17T14:16:09.284069Z",
     "start_time": "2020-02-17T14:16:09.274668Z"
    }
   },
   "outputs": [],
   "source": []
  },
  {
   "cell_type": "code",
   "execution_count": 40,
   "metadata": {
    "ExecuteTime": {
     "end_time": "2020-02-17T14:40:38.191875Z",
     "start_time": "2020-02-17T14:40:37.682342Z"
    },
    "scrolled": false
   },
   "outputs": [
    {
     "data": {
      "image/png": "[encoded data removed]",
      "text/plain": [
       "<Figure size 1080x720 with 2 Axes>"
      ]
     },
     "metadata": {
      "needs_background": "light"
     },
     "output_type": "display_data"
    },
    {
     "name": "stdout",
     "output_type": "stream",
     "text": [
      "max Sharpe : 4.6413421565245585 (100-sim) \n",
      " weights : MITRA.BR    0.943145\n",
      "UBER        0.056855\n",
      "dtype: float64\n",
      "max return : 0.117 (stdev : 0.025149433728964825)\n",
      "min stdev : 0.028927133075024154 (return : 0.034)\n"
     ]
    }
   ],
   "source": [
    "nsim=100\n",
    "simulated_PF = sim_PF(sigmas, correl, returns, num_sim=nsim)\n",
    "\n",
    "barrier = find_barrier(simulated_PF)\n",
    "plot_pf_sim(simulated_PF, barrier, nsim)\n",
    "with pd.option_context('display.max_rows', None, 'display.max_columns', None):\n",
    "    print(\"max Sharpe : {} ({}-sim) \\n weights : {}\".format(simulated_PF.iloc[simulated_PF['sharpe'].idxmax()]['sharpe'], nsim, simulated_PF.iloc[simulated_PF['sharpe'].idxmax()]['weights']))\n",
    "    print(\"max return : {} (stdev : {})\".format(simulated_PF.iloc[simulated_PF['glob_ret'].idxmax()]['glob_ret'], simulated_PF.iloc[simulated_PF['glob_ret'].idxmax()]['stdev']))\n",
    "    print(\"min stdev : {} (return : {})\".format(simulated_PF.iloc[simulated_PF['stdev'].idxmax()]['stdev'], simulated_PF.iloc[simulated_PF['stdev'].idxmax()]['glob_ret']))"
   ]
  },
  {
   "cell_type": "code",
   "execution_count": 41,
   "metadata": {
    "ExecuteTime": {
     "end_time": "2020-02-17T14:16:47.467527Z",
     "start_time": "2020-02-17T14:16:47.433017Z"
    }
   },
   "outputs": [
    {
     "data": {
      "text/html": [
       "<div>\n",
       "<style scoped>\n",
       "    .dataframe tbody tr th:only-of-type {\n",
       "        vertical-align: middle;\n",
       "    }\n",
       "\n",
       "    .dataframe tbody tr th {\n",
       "        vertical-align: top;\n",
       "    }\n",
       "\n",
       "    .dataframe thead th {\n",
       "        text-align: right;\n",
       "    }\n",
       "</style>\n",
       "<table border=\"1\" class=\"dataframe\">\n",
       "  <thead>\n",
       "    <tr style=\"text-align: right;\">\n",
       "      <th></th>\n",
       "      <th>weights</th>\n",
       "      <th>glob_ret</th>\n",
       "      <th>stdev</th>\n",
       "      <th>sharpe</th>\n",
       "    </tr>\n",
       "  </thead>\n",
       "  <tbody>\n",
       "    <tr>\n",
       "      <td>0</td>\n",
       "      <td>MITRA.BR    0.220611\n",
       "UBER        0.779389\n",
       "dtyp...</td>\n",
       "      <td>0.052</td>\n",
       "      <td>0.024185</td>\n",
       "      <td>2.113578</td>\n",
       "    </tr>\n",
       "    <tr>\n",
       "      <td>1</td>\n",
       "      <td>MITRA.BR    0.212338\n",
       "UBER        0.787662\n",
       "dtyp...</td>\n",
       "      <td>0.051</td>\n",
       "      <td>0.024337</td>\n",
       "      <td>2.071600</td>\n",
       "    </tr>\n",
       "    <tr>\n",
       "      <td>2</td>\n",
       "      <td>MITRA.BR    0.032103\n",
       "UBER        0.967897\n",
       "dtyp...</td>\n",
       "      <td>0.036</td>\n",
       "      <td>0.028205</td>\n",
       "      <td>1.247978</td>\n",
       "    </tr>\n",
       "    <tr>\n",
       "      <td>3</td>\n",
       "      <td>MITRA.BR    0.408031\n",
       "UBER        0.591969\n",
       "dtyp...</td>\n",
       "      <td>0.068</td>\n",
       "      <td>0.021489</td>\n",
       "      <td>3.115197</td>\n",
       "    </tr>\n",
       "    <tr>\n",
       "      <td>4</td>\n",
       "      <td>MITRA.BR    0.446445\n",
       "UBER        0.553555\n",
       "dtyp...</td>\n",
       "      <td>0.071</td>\n",
       "      <td>0.021146</td>\n",
       "      <td>3.319089</td>\n",
       "    </tr>\n",
       "    <tr>\n",
       "      <td>...</td>\n",
       "      <td>...</td>\n",
       "      <td>...</td>\n",
       "      <td>...</td>\n",
       "      <td>...</td>\n",
       "    </tr>\n",
       "    <tr>\n",
       "      <td>94</td>\n",
       "      <td>MITRA.BR    0.861658\n",
       "UBER        0.138342\n",
       "dtyp...</td>\n",
       "      <td>0.106</td>\n",
       "      <td>0.022799</td>\n",
       "      <td>4.616212</td>\n",
       "    </tr>\n",
       "    <tr>\n",
       "      <td>95</td>\n",
       "      <td>MITRA.BR    0.14261\n",
       "UBER        0.85739\n",
       "dtype:...</td>\n",
       "      <td>0.046</td>\n",
       "      <td>0.025719</td>\n",
       "      <td>1.731372</td>\n",
       "    </tr>\n",
       "    <tr>\n",
       "      <td>96</td>\n",
       "      <td>MITRA.BR    0.125692\n",
       "UBER        0.874308\n",
       "dtyp...</td>\n",
       "      <td>0.044</td>\n",
       "      <td>0.026078</td>\n",
       "      <td>1.652780</td>\n",
       "    </tr>\n",
       "    <tr>\n",
       "      <td>97</td>\n",
       "      <td>MITRA.BR    0.063853\n",
       "UBER        0.936147\n",
       "dtyp...</td>\n",
       "      <td>0.039</td>\n",
       "      <td>0.027458</td>\n",
       "      <td>1.379554</td>\n",
       "    </tr>\n",
       "    <tr>\n",
       "      <td>98</td>\n",
       "      <td>MITRA.BR    0.576852\n",
       "UBER        0.423148\n",
       "dtyp...</td>\n",
       "      <td>0.082</td>\n",
       "      <td>0.020603</td>\n",
       "      <td>3.940980</td>\n",
       "    </tr>\n",
       "  </tbody>\n",
       "</table>\n",
       "<p>99 rows × 4 columns</p>\n",
       "</div>"
      ],
      "text/plain": [
       "                                              weights  glob_ret     stdev  \\\n",
       "0   MITRA.BR    0.220611\n",
       "UBER        0.779389\n",
       "dtyp...     0.052  0.024185   \n",
       "1   MITRA.BR    0.212338\n",
       "UBER        0.787662\n",
       "dtyp...     0.051  0.024337   \n",
       "2   MITRA.BR    0.032103\n",
       "UBER        0.967897\n",
       "dtyp...     0.036  0.028205   \n",
       "3   MITRA.BR    0.408031\n",
       "UBER        0.591969\n",
       "dtyp...     0.068  0.021489   \n",
       "4   MITRA.BR    0.446445\n",
       "UBER        0.553555\n",
       "dtyp...     0.071  0.021146   \n",
       "..                                                ...       ...       ...   \n",
       "94  MITRA.BR    0.861658\n",
       "UBER        0.138342\n",
       "dtyp...     0.106  0.022799   \n",
       "95  MITRA.BR    0.14261\n",
       "UBER        0.85739\n",
       "dtype:...     0.046  0.025719   \n",
       "96  MITRA.BR    0.125692\n",
       "UBER        0.874308\n",
       "dtyp...     0.044  0.026078   \n",
       "97  MITRA.BR    0.063853\n",
       "UBER        0.936147\n",
       "dtyp...     0.039  0.027458   \n",
       "98  MITRA.BR    0.576852\n",
       "UBER        0.423148\n",
       "dtyp...     0.082  0.020603   \n",
       "\n",
       "      sharpe  \n",
       "0   2.113578  \n",
       "1   2.071600  \n",
       "2   1.247978  \n",
       "3   3.115197  \n",
       "4   3.319089  \n",
       "..       ...  \n",
       "94  4.616212  \n",
       "95  1.731372  \n",
       "96  1.652780  \n",
       "97  1.379554  \n",
       "98  3.940980  \n",
       "\n",
       "[99 rows x 4 columns]"
      ]
     },
     "execution_count": 41,
     "metadata": {},
     "output_type": "execute_result"
    }
   ],
   "source": [
    "simulated_PF"
   ]
  },
  {
   "cell_type": "markdown",
   "metadata": {
    "ExecuteTime": {
     "end_time": "2020-02-13T13:05:36.266658Z",
     "start_time": "2020-02-13T13:05:36.257041Z"
    }
   },
   "source": [
    "## Report : follow-up :"
   ]
  },
  {
   "cell_type": "code",
   "execution_count": 42,
   "metadata": {
    "ExecuteTime": {
     "end_time": "2020-02-17T13:55:09.298559Z",
     "start_time": "2020-02-17T13:55:09.269141Z"
    }
   },
   "outputs": [
    {
     "data": {
      "text/html": [
       "<div>\n",
       "<style scoped>\n",
       "    .dataframe tbody tr th:only-of-type {\n",
       "        vertical-align: middle;\n",
       "    }\n",
       "\n",
       "    .dataframe tbody tr th {\n",
       "        vertical-align: top;\n",
       "    }\n",
       "\n",
       "    .dataframe thead th {\n",
       "        text-align: right;\n",
       "    }\n",
       "</style>\n",
       "<table border=\"1\" class=\"dataframe\">\n",
       "  <thead>\n",
       "    <tr style=\"text-align: right;\">\n",
       "      <th></th>\n",
       "      <th>ticker</th>\n",
       "      <th>date_in</th>\n",
       "      <th>spot_in</th>\n",
       "      <th>cost_eur</th>\n",
       "      <th>nb</th>\n",
       "      <th>currency</th>\n",
       "      <th>current_val</th>\n",
       "      <th>date_out</th>\n",
       "      <th>price_out</th>\n",
       "      <th>cost_out</th>\n",
       "    </tr>\n",
       "  </thead>\n",
       "  <tbody>\n",
       "    <tr>\n",
       "      <td>0</td>\n",
       "      <td>UBER</td>\n",
       "      <td>2019-11-26</td>\n",
       "      <td>29.0998</td>\n",
       "      <td>800.43</td>\n",
       "      <td>29.0</td>\n",
       "      <td>usd</td>\n",
       "      <td>1065.489745</td>\n",
       "      <td>NaN</td>\n",
       "      <td>NaN</td>\n",
       "      <td>NaN</td>\n",
       "    </tr>\n",
       "    <tr>\n",
       "      <td>1</td>\n",
       "      <td>MITRA.BR</td>\n",
       "      <td>2020-02-13</td>\n",
       "      <td>26.8800</td>\n",
       "      <td>537.60</td>\n",
       "      <td>20.0</td>\n",
       "      <td>eur</td>\n",
       "      <td>533.600006</td>\n",
       "      <td>NaN</td>\n",
       "      <td>NaN</td>\n",
       "      <td>NaN</td>\n",
       "    </tr>\n",
       "  </tbody>\n",
       "</table>\n",
       "</div>"
      ],
      "text/plain": [
       "     ticker    date_in  spot_in  cost_eur    nb currency  current_val  \\\n",
       "0      UBER 2019-11-26  29.0998    800.43  29.0      usd  1065.489745   \n",
       "1  MITRA.BR 2020-02-13  26.8800    537.60  20.0      eur   533.600006   \n",
       "\n",
       "   date_out  price_out  cost_out  \n",
       "0       NaN        NaN       NaN  \n",
       "1       NaN        NaN       NaN  "
      ]
     },
     "execution_count": 42,
     "metadata": {},
     "output_type": "execute_result"
    }
   ],
   "source": [
    "#portfolio['current_val'] = portfolio['nb'] * portfolio['rate']\n",
    "#portfolio.set_index('ticker')['current_val'] = portfolio.set_index('ticker')['current_val'] * prices[\"Adj Close\"].dropna().iloc[-1]\n",
    "\n",
    "\n",
    "portfolio['current_val'] = portfolio['ticker'].map(prices[\"Adj Close\"].dropna().iloc[-1]) * \\\n",
    "                            portfolio['nb'] / portfolio['currency'].map(currencies['rate'])\n",
    "portfolio"
   ]
  },
  {
   "cell_type": "code",
   "execution_count": 43,
   "metadata": {
    "ExecuteTime": {
     "end_time": "2020-02-17T14:02:30.113091Z",
     "start_time": "2020-02-17T14:02:30.090402Z"
    }
   },
   "outputs": [
    {
     "name": "stdout",
     "output_type": "stream",
     "text": [
      "PF current adjusted total value (€) : 1599.089750842921 (eurusd = 1.0794472694396973)\n",
      "actual weights :\n",
      "ticker\n",
      "UBER        0.66631\n",
      "MITRA.BR    0.33369\n",
      "Name: current_val, dtype: float64\n",
      "max Sharpe weights :\n",
      "MITRA.BR    0.943145\n",
      "UBER        0.056855\n",
      "dtype: float64\n",
      "----\n",
      "actual expected return : 0.08974949462037575\n",
      "returns computed for max Sharpe : 0.113\n",
      "----\n",
      "actual expected stdev : 0.02879920316886779\n",
      "stdev computed for max Sharpe : 0.0241578035625528\n",
      "----\n",
      "actual Sharpe : 3.1163881199808956\n",
      "max theoretical Sharpe : 4.6413421565245585\n"
     ]
    }
   ],
   "source": [
    "total_value = np.sum(portfolio['current_val'])\n",
    "\n",
    "actual_weights = portfolio.set_index('ticker')['current_val'] / total_value\n",
    "\n",
    "actual_return = PF_return(actual_weights, returns)\n",
    "actual_stdev = np.sqrt(PF_variance(actual_weights, sigmas, correl))\n",
    "\n",
    "\n",
    "print(\"PF current adjusted total value (€) : {} (eurusd = {})\".format(total_value, currencies.loc['usd', 'rate']))\n",
    "print(\"actual weights :\\n{}\".format(actual_weights))\n",
    "print(\"max Sharpe weights :\\n{}\".format(simulated_PF['weights'].loc[simulated_PF['sharpe'].idxmax()]))\n",
    "print(\"----\")\n",
    "print(\"actual expected return : {}\".format(actual_return))\n",
    "print(\"returns computed for max Sharpe : {}\".format(simulated_PF['glob_ret'].loc[simulated_PF['sharpe'].idxmax()]))\n",
    "print(\"----\")\n",
    "print(\"actual expected stdev : {}\".format(actual_stdev))\n",
    "print(\"stdev computed for max Sharpe : {}\".format(simulated_PF['stdev'].loc[simulated_PF['sharpe'].idxmax()]))\n",
    "print(\"----\")\n",
    "print(\"actual Sharpe : {}\".format(actual_return/actual_stdev))\n",
    "print(\"max theoretical Sharpe : {}\".format(simulated_PF['sharpe'].loc[simulated_PF['sharpe'].idxmax()]))"
   ]
  }
 ],
 "metadata": {
  "kernelspec": {
   "display_name": "Python 3",
   "language": "python",
   "name": "python3"
  },
  "language_info": {
   "codemirror_mode": {
    "name": "ipython",
    "version": 3
   },
   "file_extension": ".py",
   "mimetype": "text/x-python",
   "name": "python",
   "nbconvert_exporter": "python",
   "pygments_lexer": "ipython3",
   "version": "3.7.4"
  }
 },
 "nbformat": 4,
 "nbformat_minor": 2
}
